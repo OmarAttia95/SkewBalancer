{
 "cells": [
  {
   "cell_type": "markdown",
   "id": "2960674353e56349",
   "metadata": {},
   "source": [
    "# SkewBalancer: Auto Fix Spark Skew\n",
    "This notebook helps you detect **skewed data** and fix it automatically using a tool called `SkewBalancer`.\n",
    "\n",
    "If you're new to programming, don't worry!\n",
    "We’ll guide you step by step"
   ]
  },
  {
   "cell_type": "markdown",
   "id": "4bf0b937a43f33a9",
   "metadata": {},
   "source": [
    "# Step 1: Install Required Packages\n",
    "\n",
    "This notebook uses **PySpark**, **Pandas**, **Matplotlib**, and **Seaborn**.\n",
    "Run this cell once to make sure everything is installed:\n"
   ]
  },
  {
   "cell_type": "code",
   "execution_count": null,
   "id": "58ab18c319eaac5e",
   "metadata": {
    "ExecuteTime": {
     "end_time": "2025-07-07T08:35:06.111658Z",
     "start_time": "2025-07-07T08:34:54.254680Z"
    }
   },
   "outputs": [],
   "source": [
    "# Install required Python packages (only if not already installed)\n",
    "!pip install pyspark pandas matplotlib seaborn --quiet"
   ]
  },
  {
   "cell_type": "markdown",
   "id": "f6232c4dc0438c40",
   "metadata": {},
   "source": [
    "# Step 2: Import Libraries\n",
    "\n",
    "We now import the Python libraries we'll use, including Spark and the `ValueSkewBalancer` class.\n"
   ]
  },
  {
   "cell_type": "code",
   "execution_count": null,
   "id": "initial_id",
   "metadata": {
    "ExecuteTime": {
     "end_time": "2025-07-07T08:36:12.288175Z",
     "start_time": "2025-07-07T08:36:12.279516Z"
    },
    "collapsed": true
   },
   "outputs": [],
   "source": [
    "from pyspark.sql import SparkSession\n",
    "from skewbalancer import *"
   ]
  },
  {
   "cell_type": "markdown",
   "id": "4a0f6fae159bdb54",
   "metadata": {},
   "source": [
    "# Step 3: Start a Spark Session\n",
    "\n",
    "This step launches a local Spark instance to process your data."
   ]
  },
  {
   "cell_type": "code",
   "execution_count": null,
   "id": "79bf0222f6ad952c",
   "metadata": {
    "ExecuteTime": {
     "end_time": "2025-07-07T08:35:06.377507Z",
     "start_time": "2025-07-07T08:35:06.230313Z"
    }
   },
   "outputs": [],
   "source": [
    "# ----------------------------\n",
    "# Spark Session Configuration\n",
    "# ----------------------------\n",
    "\n",
    "# Basic Settings\n",
    "spark_app_name: str = \"SkewBalancer_Test\"\n",
    "spark_master: str = \"local[*]\"                      # Use all local cores\n",
    "spark_driver_memory: str = \"4g\"                     # Driver memory limit\n",
    "spark_executor_memory: str = \"4g\"                   # Executor memory (mostly ignored in local mode)\n",
    "spark_log_level: str = \"WARN\"                       # Reduce log noise: INFO, WARN, ERROR\n",
    "\n",
    "# Performance Tuners\n",
    "spark_configs: dict = {\n",
    "    \"spark.sql.shuffle.partitions\": \"8\",            # Default number of shuffle partitions\n",
    "    \"spark.default.parallelism\": \"8\",                # Used in RDD operations\n",
    "    \"spark.sql.adaptive.enabled\": \"true\",           # Enable Adaptive Query Execution (AQE)\n",
    "    \"spark.sql.adaptive.coalescePartitions.enabled\": \"true\",  # Coalesce after AQE\n",
    "    \"spark.sql.broadcastTimeout\": \"120\",            # Broadcast timeout in seconds\n",
    "    \"spark.serializer\": \"org.apache.spark.serializer.KryoSerializer\",  # Fast serialization\n",
    "    \"spark.sql.codegen.wholeStage\": \"true\",         # Enable full query optimization\n",
    "}\n",
    "\n",
    "# ----------------------------\n",
    "# Build Spark Session\n",
    "# ----------------------------\n",
    "spark_builder = SparkSession.builder.appName(spark_app_name).master(spark_master)\n",
    "\n",
    "# Apply memory settings\n",
    "spark_builder = spark_builder.config(\"spark.driver.memory\", spark_driver_memory)\n",
    "spark_builder = spark_builder.config(\"spark.executor.memory\", spark_executor_memory)\n",
    "\n",
    "# Apply advanced configs\n",
    "for k, v in spark_configs.items():\n",
    "    spark_builder = spark_builder.config(k, v)\n",
    "\n",
    "# Create Spark session\n",
    "spark = spark_builder.getOrCreate()\n",
    "\n",
    "# Set log level\n",
    "spark.sparkContext.setLogLevel(spark_log_level)\n",
    "\n",
    "# Confirm Spark details\n",
    "print(f\"Spark session started (v{spark.version}) | Driver Memory: {spark_driver_memory} | Executor Memor: {spark_executor_memory}\")"
   ]
  },
  {
   "cell_type": "markdown",
   "id": "d888bcc7adf01fc8",
   "metadata": {},
   "source": [
    "# Step 4: Load Your Data (Any File Type)\n",
    "\n",
    "`SkewBalancer` supports many file types:\n",
    " - `.csv` — comma-separated values\n",
    " - `.json` — structured JSON records\n",
    " - `.parquet` — fast compressed format\n",
    " - `.delta` — advanced format for big data (if Delta Lake is installed)\n",
    " \n",
    "Set your file path and file type below.\n",
    "We'll automatically load it into a Spark DataFrame!"
   ]
  },
  {
   "cell_type": "code",
   "execution_count": 27,
   "id": "7f7d8481227b9358",
   "metadata": {
    "ExecuteTime": {
     "end_time": "2025-07-07T08:35:06.662491Z",
     "start_time": "2025-07-07T08:35:06.427811Z"
    }
   },
   "outputs": [],
   "source": [
    "# Replace this path with your own CSV\n",
    "input_file = r\"C:\\Users\\OmarAttia\\IdeaProjects\\Spark\\SkewBalancer\\data\\realtime_garbage_100k.csv\"\n",
    "file_type = \"csv\"                 # Options: \"csv\", \"json\", \"parquet\", \"delta\""
   ]
  },
  {
   "cell_type": "markdown",
   "id": "140f7590",
   "metadata": {},
   "source": [
    "# Step 5: Use Smart Schema Detection\n",
    "Instead of relying on `inferSchema=True`, we now use `.schemaVisor()` — a smart schema detection method that:\n",
    "\n",
    "- Samples a small portion of the data (~5K records)\n",
    "- Analyzes string columns, numeric-like strings, and missing values\n",
    "- Generates an optimized schema using Spark types (`IntegerType`, `DoubleType`, `StringType`)\n",
    "- Prevents over-allocation of memory and speeds up Spark's I/O performance\n",
    "\n",
    "This makes your pipeline more scalable, especially for large, messy, or semi-structured datasets."
   ]
  },
  {
   "cell_type": "code",
   "execution_count": 28,
   "id": "5d7d2dd4",
   "metadata": {},
   "outputs": [],
   "source": [
    "# Step 5: Use schemaVisor to generate a schema from sampled data\n",
    "df_sample = spark.read.option(\"header\", \"true\").option(\"inferSchema\", \"false\").csv(input_file)\n",
    "schema = ValueSkewBalancer.schemaVisor(df_sample)"
   ]
  },
  {
   "cell_type": "markdown",
   "id": "d2b83218",
   "metadata": {},
   "source": [
    "## (OPTIONAL) Step 5.1: Auto-Detect Primary or Composite Key\n",
    "After determining the optimal schema with `schemaVisor()`, we now identify a suitable **Primary Key** (or **Composite Key**) using `.detectKey()`.\n",
    "\n",
    "This helps:\n",
    "- Enforce schema constraints\n",
    "- Optimize `join` performance\n",
    "- Enable `deduplication` and `identity logic`\n",
    "\n",
    "The method:\n",
    "- Analyzes `nulls` and `uniqueness` across all columns\n",
    "- Picks the most confident column as a **primary key**\n",
    "- If no strong single-column key exists, it tries **column combinations** (composite keys)\n",
    "- Returns `type`, `columns`, and `confidence score` **(Remember that is all algorithm. You could skip this step)**"
   ]
  },
  {
   "cell_type": "code",
   "execution_count": 29,
   "id": "148ca237",
   "metadata": {},
   "outputs": [
    {
     "name": "stdout",
     "output_type": "stream",
     "text": [
      "customer_id: distinct=100000, nulls=0, score=1.0000\n",
      "event_type: distinct=4, nulls=0, score=0.0000\n",
      "value: distinct=8940, nulls=0, score=0.0894\n",
      "description: distinct=5, nulls=0, score=0.0001\n",
      "event_time: distinct=100000, nulls=0, score=1.0000\n",
      "\n",
      "Detected primary key:\n",
      "Columns: ['customer_id']\n",
      "Confidence: 100.00%\n"
     ]
    }
   ],
   "source": [
    "# Detect Primary or Composite Key\n",
    "key_result = ValueSkewBalancer.detectKey(df_sample, max_composite=3, verbose=True)\n",
    "\n",
    "if key_result:\n",
    "    print(f\"\\nDetected {key_result['type']} key:\")\n",
    "    print(f\"Columns: {key_result['columns']}\")\n",
    "    print(f\"Confidence: {key_result['confidence'] * 100:.2f}%\")\n",
    "else:\n",
    "    print(\"No reliable primary or composite key found.\")"
   ]
  },
  {
   "cell_type": "markdown",
   "id": "92ecb660",
   "metadata": {},
   "source": [
    "## Step 6: Read Data Using Smart Schema\n",
    "\n",
    "We now use the schema returned by `schemaVisor()` to load your data.\n",
    "\n",
    "`inferSchema` is now turned off — we trust our smarter logic\n"
   ]
  },
  {
   "cell_type": "code",
   "execution_count": 30,
   "id": "6bf35a5b",
   "metadata": {},
   "outputs": [],
   "source": [
    "if file_type == \"csv\":\n",
    "    df = spark.read.option(\"header\", \"true\").schema(schema).csv(input_file)\n",
    "elif file_type == \"json\":\n",
    "    df = spark.read.option(\"multiline\", \"true\").schema(schema).json(input_file)\n",
    "elif file_type == \"parquet\":\n",
    "    df = spark.read.schema(schema).parquet(input_file)\n",
    "elif file_type == \"delta\":\n",
    "    df = spark.read.format(\"delta\").schema(schema).load(input_file)\n",
    "else:\n",
    "    raise ValueError(f\"Unsupported file type: {file_type}\")"
   ]
  },
  {
   "cell_type": "markdown",
   "id": "c614e28c6dfcfc8c",
   "metadata": {},
   "source": [
    "> **TIP**\n",
    "> Not sure which file type you have?\n",
    "> - `.csv` is usually text with commas\n",
    "> - `.json` is readable by web browsers\n",
    "> - `.parquet` is often used in cloud warehouses (like AWS, Azure)\n",
    "> - `.delta` is for Spark projects with **Delta Lake** enabled\n"
   ]
  },
  {
   "cell_type": "markdown",
   "id": "ca1832f22952071a",
   "metadata": {},
   "source": [
    "## Step 7: Preview Your Data\n",
    "\n",
    "Let’s check what columns are inside your file."
   ]
  },
  {
   "cell_type": "code",
   "execution_count": 31,
   "id": "bff381eecfddc046",
   "metadata": {
    "ExecuteTime": {
     "end_time": "2025-07-07T08:35:06.837309Z",
     "start_time": "2025-07-07T08:35:06.716667Z"
    }
   },
   "outputs": [
    {
     "name": "stdout",
     "output_type": "stream",
     "text": [
      "root\n",
      " |-- customer_id: string (nullable = true)\n",
      " |-- event_type: string (nullable = true)\n",
      " |-- value: double (nullable = true)\n",
      " |-- description: string (nullable = true)\n",
      " |-- event_time: string (nullable = true)\n",
      "\n",
      "+--------------------+----------+-----+-----------+--------------------+\n",
      "|         customer_id|event_type|value|description|          event_time|\n",
      "+--------------------+----------+-----+-----------+--------------------+\n",
      "|f2c41853-0d67-420...|      view| 9.39|    ignored|2025-06-28 21:07:...|\n",
      "|        Y47MY2XGL79V|    signup| 60.2|  important|2025-06-19 12:22:...|\n",
      "|c7384f76-021d-463...|      view|26.33|       spam|2025-06-15 02:28:...|\n",
      "|    1660d54a24bc451f|  purchase|18.26|  important|2025-07-01 12:03:...|\n",
      "|        3X92GM6KPU6H|     click| 3.39|     normal|2025-07-03 14:39:...|\n",
      "+--------------------+----------+-----+-----------+--------------------+\n",
      "only showing top 5 rows\n"
     ]
    }
   ],
   "source": [
    "# Show schema and preview\n",
    "df.printSchema()\n",
    "df.show(5)"
   ]
  },
  {
   "cell_type": "markdown",
   "id": "1f6205020fa4e682",
   "metadata": {},
   "source": [
    "## Step 8: Automatically Detect Skew and Balance Your Data\n",
    "\n",
    "Now we let `SkewBalancer`:\n",
    "- Detect the most skewed numeric column\n",
    "- Pick the best group-by column (usually string column with low unique values)\n",
    "- Apply salting to split skewed values into smaller \"chunks\"\n",
    "- Repartition the data for faster Spark performance\n",
    "\n",
    "You can change:\n",
    "- `output_dir`: where charts and logs are saved\n",
    "- `partitions`: number of output partitions (default = 8)\n",
    "- `verbose`: if `True`, will print detailed info for learning\n"
   ]
  },
  {
   "cell_type": "code",
   "execution_count": 32,
   "id": "bf3fd0b988ed1e96",
   "metadata": {},
   "outputs": [
    {
     "name": "stdout",
     "output_type": "stream",
     "text": [
      "value: skewness = 0.26\n",
      "[AUTO-DETECTED] Skewed column = value, GroupBy = event_type\n",
      " Thank you for using this tool. - Omar Attia+----------+-----+\n",
      "|event_type|count|\n",
      "+----------+-----+\n",
      "|    signup|25099|\n",
      "|  purchase|24809|\n",
      "|      view|25151|\n",
      "|     click|24941|\n",
      "+----------+-----+\n",
      "\n",
      "[Before_Salting] Time: 0.145 sec\n",
      "+----------+-----+\n",
      "|event_type|count|\n",
      "+----------+-----+\n",
      "|  purchase|24809|\n",
      "|    signup|25099|\n",
      "|      view|25151|\n",
      "|     click|24941|\n",
      "+----------+-----+\n",
      "\n",
      "[After_Salting] Time: 0.367 sec\n",
      "\n",
      "[Before_Salting] Partition sizes:\n",
      "  Partition 0: 60461 records\n",
      "  Partition 1: 39539 records\n",
      "\n",
      "[After_Salting] Partition sizes:\n",
      "  Partition 0: 9902 records\n",
      "  Partition 1: 9762 records\n",
      "  Partition 2: 9460 records\n",
      "  Partition 3: 9952 records\n",
      "  Partition 4: 10764 records\n",
      "  Partition 5: 9336 records\n",
      "  Partition 6: 10477 records\n",
      "  Partition 7: 10927 records\n",
      "  Partition 8: 9922 records\n",
      "  Partition 9: 9498 records\n"
     ]
    }
   ],
   "source": [
    "# Automatically detect skew and optimize the DataFrame\n",
    "output_dir = \"outputs\"        # Directory to save plots and explain logs\n",
    "num_partitions = 8            # Number of partitions after salting\n",
    "verbose_mode = True           # Show detailed progress and stats\n",
    "\n",
    "df_balanced = auto_balance_skew(\n",
    "    df,\n",
    "    output_dir=output_dir,\n",
    "    partitions=num_partitions,\n",
    "    verbose=verbose_mode\n",
    ")"
   ]
  },
  {
   "cell_type": "markdown",
   "id": "5708d0b9ce53f662",
   "metadata": {},
   "source": [
    "## Step 9: Check the Output and Partitions\n",
    "\n",
    "Now let’s preview:\n",
    "- A few rows from the new column `salted_key` (which Spark uses to balance the data)\n",
    "- The number of records inside each Spark partition\n",
    "\n",
    "This helps you **verify** that the skew was reduced and data is now more balanced across workers.\n"
   ]
  },
  {
   "cell_type": "code",
   "execution_count": 33,
   "id": "e57a71afb67e50e6",
   "metadata": {},
   "outputs": [
    {
     "name": "stdout",
     "output_type": "stream",
     "text": [
      "+----------+\n",
      "|salted_key|\n",
      "+----------+\n",
      "|   18.26_4|\n",
      "|     3.0_1|\n",
      "|   30.76_6|\n",
      "|   23.06_5|\n",
      "|   13.67_3|\n",
      "+----------+\n",
      "only showing top 5 rows\n",
      "\n",
      "[Salted Result] Partition sizes:\n",
      "  Partition 0: 9902 records\n",
      "  Partition 1: 9762 records\n",
      "  Partition 2: 9460 records\n",
      "  Partition 3: 9952 records\n",
      "  Partition 4: 10764 records\n",
      "  Partition 5: 9336 records\n",
      "  Partition 6: 10477 records\n",
      "  Partition 7: 10927 records\n",
      "  Partition 8: 9922 records\n",
      "  Partition 9: 9498 records\n"
     ]
    }
   ],
   "source": [
    "# Detect the salted column name dynamically\n",
    "salted_col = [col for col in df_balanced.columns if \"salted\" in col.lower()][0]\n",
    "\n",
    "# Show some of the salted values\n",
    "df_balanced.select(salted_col).show(5)\n",
    "\n",
    "# Show partition distribution\n",
    "ValueSkewBalancer.show_partition_sizes(df_balanced, label=\"Salted Result\")"
   ]
  },
  {
   "cell_type": "markdown",
   "id": "c829e65ec2b135c2",
   "metadata": {},
   "source": [
    "## Step 10: Compare Original vs Optimized Performance\n",
    "\n",
    "Let’s now compare:\n",
    "- The **original plan** before salting\n",
    "- The **optimized plan** after salting\n",
    "\n",
    "We:\n",
    "- Group the data by a selected **categorical column** (usually a string like \"type\")\n",
    "- Time how long `.groupBy().count()` takes\n",
    "- Log the physical execution plan using `.explain()`\n",
    "\n",
    "This shows how `SkewBalancer` changes how Spark works under the hood!\n"
   ]
  },
  {
   "cell_type": "code",
   "execution_count": 35,
   "id": "1f4ca4acdd52aafe",
   "metadata": {},
   "outputs": [
    {
     "name": "stderr",
     "output_type": "stream",
     "text": [
      "{\"ts\": \"2025-07-07 13:48:13.072\", \"level\": \"ERROR\", \"logger\": \"DataFrameQueryContextLogger\", \"msg\": \"[UNRESOLVED_COLUMN.WITH_SUGGESTION] A column, variable, or function parameter with name `type` cannot be resolved. Did you mean one of the following? [`value`, `event_type`, `event_time`, `customer_id`, `description`]. SQLSTATE: 42703\", \"context\": {\"file\": \"jdk.internal.reflect.GeneratedMethodAccessor46.invoke(Unknown Source)\", \"line\": \"\", \"fragment\": \"col\", \"errorClass\": \"UNRESOLVED_COLUMN.WITH_SUGGESTION\"}, \"exception\": {\"class\": \"Py4JJavaError\", \"msg\": \"An error occurred while calling o1665.count.\\n: org.apache.spark.sql.AnalysisException: [UNRESOLVED_COLUMN.WITH_SUGGESTION] A column, variable, or function parameter with name `type` cannot be resolved. Did you mean one of the following? [`value`, `event_type`, `event_time`, `customer_id`, `description`]. SQLSTATE: 42703;\\n'Aggregate ['type], ['type, count(1) AS count#1569L]\\n+- Relation [customer_id#1334,event_type#1335,value#1336,description#1337,event_time#1338] csv\\n\\r\\n\\tat org.apache.spark.sql.errors.QueryCompilationErrors$.unresolvedAttributeError(QueryCompilationErrors.scala:401)\\r\\n\\tat org.apache.spark.sql.catalyst.analysis.CheckAnalysis.org$apache$spark$sql$catalyst$analysis$CheckAnalysis$$failUnresolvedAttribute(CheckAnalysis.scala:169)\\r\\n\\tat org.apache.spark.sql.catalyst.analysis.CheckAnalysis.$anonfun$checkAnalysis0$7(CheckAnalysis.scala:404)\\r\\n\\tat org.apache.spark.sql.catalyst.analysis.CheckAnalysis.$anonfun$checkAnalysis0$7$adapted(CheckAnalysis.scala:402)\\r\\n\\tat org.apache.spark.sql.catalyst.trees.TreeNode.foreachUp(TreeNode.scala:252)\\r\\n\\tat org.apache.spark.sql.catalyst.analysis.CheckAnalysis.$anonfun$checkAnalysis0$6(CheckAnalysis.scala:402)\\r\\n\\tat org.apache.spark.sql.catalyst.analysis.CheckAnalysis.$anonfun$checkAnalysis0$6$adapted(CheckAnalysis.scala:402)\\r\\n\\tat scala.collection.immutable.List.foreach(List.scala:334)\\r\\n\\tat org.apache.spark.sql.catalyst.analysis.CheckAnalysis.$anonfun$checkAnalysis0$2(CheckAnalysis.scala:402)\\r\\n\\tat org.apache.spark.sql.catalyst.analysis.CheckAnalysis.$anonfun$checkAnalysis0$2$adapted(CheckAnalysis.scala:284)\\r\\n\\tat org.apache.spark.sql.catalyst.trees.TreeNode.foreachUp(TreeNode.scala:252)\\r\\n\\tat org.apache.spark.sql.catalyst.analysis.CheckAnalysis.checkAnalysis0(CheckAnalysis.scala:284)\\r\\n\\tat org.apache.spark.sql.catalyst.analysis.CheckAnalysis.checkAnalysis0$(CheckAnalysis.scala:255)\\r\\n\\tat org.apache.spark.sql.catalyst.analysis.Analyzer.checkAnalysis0(Analyzer.scala:249)\\r\\n\\tat org.apache.spark.sql.catalyst.analysis.CheckAnalysis.checkAnalysis(CheckAnalysis.scala:244)\\r\\n\\tat org.apache.spark.sql.catalyst.analysis.CheckAnalysis.checkAnalysis$(CheckAnalysis.scala:231)\\r\\n\\tat org.apache.spark.sql.catalyst.analysis.Analyzer.checkAnalysis(Analyzer.scala:249)\\r\\n\\tat org.apache.spark.sql.catalyst.analysis.resolver.HybridAnalyzer.$anonfun$resolveInFixedPoint$1(HybridAnalyzer.scala:192)\\r\\n\\tat scala.runtime.java8.JFunction0$mcV$sp.apply(JFunction0$mcV$sp.scala:18)\\r\\n\\tat org.apache.spark.sql.catalyst.QueryPlanningTracker$.withTracker(QueryPlanningTracker.scala:89)\\r\\n\\tat org.apache.spark.sql.catalyst.analysis.resolver.HybridAnalyzer.resolveInFixedPoint(HybridAnalyzer.scala:192)\\r\\n\\tat org.apache.spark.sql.catalyst.analysis.resolver.HybridAnalyzer.$anonfun$apply$1(HybridAnalyzer.scala:76)\\r\\n\\tat org.apache.spark.sql.catalyst.analysis.resolver.HybridAnalyzer.withTrackedAnalyzerBridgeState(HybridAnalyzer.scala:111)\\r\\n\\tat org.apache.spark.sql.catalyst.analysis.resolver.HybridAnalyzer.apply(HybridAnalyzer.scala:71)\\r\\n\\tat org.apache.spark.sql.catalyst.analysis.Analyzer.$anonfun$executeAndCheck$1(Analyzer.scala:280)\\r\\n\\tat org.apache.spark.sql.catalyst.plans.logical.AnalysisHelper$.markInAnalyzer(AnalysisHelper.scala:423)\\r\\n\\tat org.apache.spark.sql.catalyst.analysis.Analyzer.executeAndCheck(Analyzer.scala:280)\\r\\n\\tat org.apache.spark.sql.execution.QueryExecution.$anonfun$lazyAnalyzed$2(QueryExecution.scala:110)\\r\\n\\tat org.apache.spark.sql.catalyst.QueryPlanningTracker.measurePhase(QueryPlanningTracker.scala:148)\\r\\n\\tat org.apache.spark.sql.execution.QueryExecution.$anonfun$executePhase$2(QueryExecution.scala:278)\\r\\n\\tat org.apache.spark.sql.execution.QueryExecution$.withInternalError(QueryExecution.scala:654)\\r\\n\\tat org.apache.spark.sql.execution.QueryExecution.$anonfun$executePhase$1(QueryExecution.scala:278)\\r\\n\\tat org.apache.spark.sql.SparkSession.withActive(SparkSession.scala:804)\\r\\n\\tat org.apache.spark.sql.execution.QueryExecution.executePhase(QueryExecution.scala:277)\\r\\n\\tat org.apache.spark.sql.execution.QueryExecution.$anonfun$lazyAnalyzed$1(QueryExecution.scala:110)\\r\\n\\tat scala.util.Try$.apply(Try.scala:217)\\r\\n\\tat org.apache.spark.util.Utils$.doTryWithCallerStacktrace(Utils.scala:1378)\\r\\n\\tat org.apache.spark.util.Utils$.getTryWithCallerStacktrace(Utils.scala:1439)\\r\\n\\tat org.apache.spark.util.LazyTry.get(LazyTry.scala:58)\\r\\n\\tat org.apache.spark.sql.execution.QueryExecution.analyzed(QueryExecution.scala:121)\\r\\n\\tat org.apache.spark.sql.execution.QueryExecution.assertAnalyzed(QueryExecution.scala:80)\\r\\n\\tat org.apache.spark.sql.classic.Dataset$.$anonfun$ofRows$1(Dataset.scala:115)\\r\\n\\tat org.apache.spark.sql.SparkSession.withActive(SparkSession.scala:804)\\r\\n\\tat org.apache.spark.sql.classic.Dataset$.ofRows(Dataset.scala:113)\\r\\n\\tat org.apache.spark.sql.classic.RelationalGroupedDataset.toDF(RelationalGroupedDataset.scala:84)\\r\\n\\tat org.apache.spark.sql.classic.RelationalGroupedDataset.toDF(RelationalGroupedDataset.scala:54)\\r\\n\\tat org.apache.spark.sql.RelationalGroupedDataset.count(RelationalGroupedDataset.scala:166)\\r\\n\\tat org.apache.spark.sql.classic.RelationalGroupedDataset.count(RelationalGroupedDataset.scala:150)\\r\\n\\tat jdk.internal.reflect.GeneratedMethodAccessor119.invoke(Unknown Source)\\r\\n\\tat java.base/jdk.internal.reflect.DelegatingMethodAccessorImpl.invoke(DelegatingMethodAccessorImpl.java:43)\\r\\n\\tat java.base/java.lang.reflect.Method.invoke(Method.java:569)\\r\\n\\tat py4j.reflection.MethodInvoker.invoke(MethodInvoker.java:244)\\r\\n\\tat py4j.reflection.ReflectionEngine.invoke(ReflectionEngine.java:374)\\r\\n\\tat py4j.Gateway.invoke(Gateway.java:282)\\r\\n\\tat py4j.commands.AbstractCommand.invokeMethod(AbstractCommand.java:132)\\r\\n\\tat py4j.commands.CallCommand.execute(CallCommand.java:79)\\r\\n\\tat py4j.ClientServerConnection.waitForCommands(ClientServerConnection.java:184)\\r\\n\\tat py4j.ClientServerConnection.run(ClientServerConnection.java:108)\\r\\n\\tat java.base/java.lang.Thread.run(Thread.java:840)\\r\\n\\tSuppressed: org.apache.spark.util.Utils$OriginalTryStackTraceException: Full stacktrace of original doTryWithCallerStacktrace caller\\r\\n\\t\\tat org.apache.spark.sql.errors.QueryCompilationErrors$.unresolvedAttributeError(QueryCompilationErrors.scala:401)\\r\\n\\t\\tat org.apache.spark.sql.catalyst.analysis.CheckAnalysis.org$apache$spark$sql$catalyst$analysis$CheckAnalysis$$failUnresolvedAttribute(CheckAnalysis.scala:169)\\r\\n\\t\\tat org.apache.spark.sql.catalyst.analysis.CheckAnalysis.$anonfun$checkAnalysis0$7(CheckAnalysis.scala:404)\\r\\n\\t\\tat org.apache.spark.sql.catalyst.analysis.CheckAnalysis.$anonfun$checkAnalysis0$7$adapted(CheckAnalysis.scala:402)\\r\\n\\t\\tat org.apache.spark.sql.catalyst.trees.TreeNode.foreachUp(TreeNode.scala:252)\\r\\n\\t\\tat org.apache.spark.sql.catalyst.analysis.CheckAnalysis.$anonfun$checkAnalysis0$6(CheckAnalysis.scala:402)\\r\\n\\t\\tat org.apache.spark.sql.catalyst.analysis.CheckAnalysis.$anonfun$checkAnalysis0$6$adapted(CheckAnalysis.scala:402)\\r\\n\\t\\tat scala.collection.immutable.List.foreach(List.scala:334)\\r\\n\\t\\tat org.apache.spark.sql.catalyst.analysis.CheckAnalysis.$anonfun$checkAnalysis0$2(CheckAnalysis.scala:402)\\r\\n\\t\\tat org.apache.spark.sql.catalyst.analysis.CheckAnalysis.$anonfun$checkAnalysis0$2$adapted(CheckAnalysis.scala:284)\\r\\n\\t\\tat org.apache.spark.sql.catalyst.trees.TreeNode.foreachUp(TreeNode.scala:252)\\r\\n\\t\\tat org.apache.spark.sql.catalyst.analysis.CheckAnalysis.checkAnalysis0(CheckAnalysis.scala:284)\\r\\n\\t\\tat org.apache.spark.sql.catalyst.analysis.CheckAnalysis.checkAnalysis0$(CheckAnalysis.scala:255)\\r\\n\\t\\tat org.apache.spark.sql.catalyst.analysis.Analyzer.checkAnalysis0(Analyzer.scala:249)\\r\\n\\t\\tat org.apache.spark.sql.catalyst.analysis.CheckAnalysis.checkAnalysis(CheckAnalysis.scala:244)\\r\\n\\t\\tat org.apache.spark.sql.catalyst.analysis.CheckAnalysis.checkAnalysis$(CheckAnalysis.scala:231)\\r\\n\\t\\tat org.apache.spark.sql.catalyst.analysis.Analyzer.checkAnalysis(Analyzer.scala:249)\\r\\n\\t\\tat org.apache.spark.sql.catalyst.analysis.resolver.HybridAnalyzer.$anonfun$resolveInFixedPoint$1(HybridAnalyzer.scala:192)\\r\\n\\t\\tat scala.runtime.java8.JFunction0$mcV$sp.apply(JFunction0$mcV$sp.scala:18)\\r\\n\\t\\tat org.apache.spark.sql.catalyst.QueryPlanningTracker$.withTracker(QueryPlanningTracker.scala:89)\\r\\n\\t\\tat org.apache.spark.sql.catalyst.analysis.resolver.HybridAnalyzer.resolveInFixedPoint(HybridAnalyzer.scala:192)\\r\\n\\t\\tat org.apache.spark.sql.catalyst.analysis.resolver.HybridAnalyzer.$anonfun$apply$1(HybridAnalyzer.scala:76)\\r\\n\\t\\tat org.apache.spark.sql.catalyst.analysis.resolver.HybridAnalyzer.withTrackedAnalyzerBridgeState(HybridAnalyzer.scala:111)\\r\\n\\t\\tat org.apache.spark.sql.catalyst.analysis.resolver.HybridAnalyzer.apply(HybridAnalyzer.scala:71)\\r\\n\\t\\tat org.apache.spark.sql.catalyst.analysis.Analyzer.$anonfun$executeAndCheck$1(Analyzer.scala:280)\\r\\n\\t\\tat org.apache.spark.sql.catalyst.plans.logical.AnalysisHelper$.markInAnalyzer(AnalysisHelper.scala:423)\\r\\n\\t\\tat org.apache.spark.sql.catalyst.analysis.Analyzer.executeAndCheck(Analyzer.scala:280)\\r\\n\\t\\tat org.apache.spark.sql.execution.QueryExecution.$anonfun$lazyAnalyzed$2(QueryExecution.scala:110)\\r\\n\\t\\tat org.apache.spark.sql.catalyst.QueryPlanningTracker.measurePhase(QueryPlanningTracker.scala:148)\\r\\n\\t\\tat org.apache.spark.sql.execution.QueryExecution.$anonfun$executePhase$2(QueryExecution.scala:278)\\r\\n\\t\\tat org.apache.spark.sql.execution.QueryExecution$.withInternalError(QueryExecution.scala:654)\\r\\n\\t\\tat org.apache.spark.sql.execution.QueryExecution.$anonfun$executePhase$1(QueryExecution.scala:278)\\r\\n\\t\\tat org.apache.spark.sql.SparkSession.withActive(SparkSession.scala:804)\\r\\n\\t\\tat org.apache.spark.sql.execution.QueryExecution.executePhase(QueryExecution.scala:277)\\r\\n\\t\\tat org.apache.spark.sql.execution.QueryExecution.$anonfun$lazyAnalyzed$1(QueryExecution.scala:110)\\r\\n\\t\\tat scala.util.Try$.apply(Try.scala:217)\\r\\n\\t\\tat org.apache.spark.util.Utils$.doTryWithCallerStacktrace(Utils.scala:1378)\\r\\n\\t\\tat org.apache.spark.util.LazyTry.tryT$lzycompute(LazyTry.scala:46)\\r\\n\\t\\tat org.apache.spark.util.LazyTry.tryT(LazyTry.scala:46)\\r\\n\\t\\t... 21 more\\r\\n\", \"stacktrace\": [{\"class\": null, \"method\": \"deco\", \"file\": \"c:\\\\Users\\\\OmarAttia\\\\AppData\\\\Local\\\\Programs\\\\Python\\\\Python311\\\\Lib\\\\site-packages\\\\pyspark\\\\errors\\\\exceptions\\\\captured.py\", \"line\": \"282\"}, {\"class\": null, \"method\": \"get_return_value\", \"file\": \"c:\\\\Users\\\\OmarAttia\\\\AppData\\\\Local\\\\Programs\\\\Python\\\\Python311\\\\Lib\\\\site-packages\\\\py4j\\\\protocol.py\", \"line\": \"327\"}]}}\n"
     ]
    },
    {
     "name": "stdout",
     "output_type": "stream",
     "text": [
      "[Original Plan using 'type']\n"
     ]
    },
    {
     "ename": "AnalysisException",
     "evalue": "[UNRESOLVED_COLUMN.WITH_SUGGESTION] A column, variable, or function parameter with name `type` cannot be resolved. Did you mean one of the following? [`value`, `event_type`, `event_time`, `customer_id`, `description`]. SQLSTATE: 42703;\n'Aggregate ['type], ['type, count(1) AS count#1569L]\n+- Relation [customer_id#1334,event_type#1335,value#1336,description#1337,event_time#1338] csv\n",
     "output_type": "error",
     "traceback": [
      "\u001b[31m---------------------------------------------------------------------------\u001b[39m",
      "\u001b[31mAnalysisException\u001b[39m                         Traceback (most recent call last)",
      "\u001b[36mCell\u001b[39m\u001b[36m \u001b[39m\u001b[32mIn[35]\u001b[39m\u001b[32m, line 11\u001b[39m\n\u001b[32m      9\u001b[39m \u001b[38;5;66;03m# Compare groupBy performance before vs after\u001b[39;00m\n\u001b[32m     10\u001b[39m \u001b[38;5;28mprint\u001b[39m(\u001b[33mf\u001b[39m\u001b[33m\"\u001b[39m\u001b[33m[Original Plan using \u001b[39m\u001b[33m'\u001b[39m\u001b[38;5;132;01m{\u001b[39;00mgroupby_col\u001b[38;5;132;01m}\u001b[39;00m\u001b[33m'\u001b[39m\u001b[33m]\u001b[39m\u001b[33m\"\u001b[39m)\n\u001b[32m---> \u001b[39m\u001b[32m11\u001b[39m \u001b[43mValueSkewBalancer\u001b[49m\u001b[43m.\u001b[49m\u001b[43mtimeit\u001b[49m\u001b[43m(\u001b[49m\u001b[38;5;28;43;01mlambda\u001b[39;49;00m\u001b[43m:\u001b[49m\u001b[43m \u001b[49m\u001b[43mdf\u001b[49m\u001b[43m.\u001b[49m\u001b[43mgroupBy\u001b[49m\u001b[43m(\u001b[49m\u001b[43mgroupby_col\u001b[49m\u001b[43m)\u001b[49m\u001b[43m.\u001b[49m\u001b[43mcount\u001b[49m\u001b[43m(\u001b[49m\u001b[43m)\u001b[49m\u001b[43m.\u001b[49m\u001b[43mshow\u001b[49m\u001b[43m(\u001b[49m\u001b[43m)\u001b[49m\u001b[43m,\u001b[49m\u001b[43m \u001b[49m\u001b[43mlabel\u001b[49m\u001b[43m=\u001b[49m\u001b[33;43m\"\u001b[39;49m\u001b[33;43mOriginal Count\u001b[39;49m\u001b[33;43m\"\u001b[39;49m\u001b[43m)\u001b[49m\n\u001b[32m     12\u001b[39m ValueSkewBalancer.log_explain(df.groupBy(groupby_col).count(), o_log_output_dir)\n\u001b[32m     14\u001b[39m \u001b[38;5;28mprint\u001b[39m(\u001b[33mf\u001b[39m\u001b[33m\"\u001b[39m\u001b[33m[Salted Plan using \u001b[39m\u001b[33m'\u001b[39m\u001b[38;5;132;01m{\u001b[39;00mgroupby_col\u001b[38;5;132;01m}\u001b[39;00m\u001b[33m'\u001b[39m\u001b[33m]\u001b[39m\u001b[33m\"\u001b[39m)\n",
      "\u001b[36mFile \u001b[39m\u001b[32mc:\\Users\\OmarAttia\\IdeaProjects\\Spark\\SkewBalancer\\skewbalancer\\value_skew_balancer.py:236\u001b[39m, in \u001b[36mValueSkewBalancer.timeit\u001b[39m\u001b[34m(func, label, *args, **kwargs)\u001b[39m\n\u001b[32m    233\u001b[39m \u001b[38;5;129m@staticmethod\u001b[39m\n\u001b[32m    234\u001b[39m \u001b[38;5;28;01mdef\u001b[39;00m\u001b[38;5;250m \u001b[39m\u001b[34mtimeit\u001b[39m(func: Callable[..., Any], *args, label: \u001b[38;5;28mstr\u001b[39m = \u001b[33m\"\u001b[39m\u001b[33m\"\u001b[39m, **kwargs):\n\u001b[32m    235\u001b[39m     start = time.time()\n\u001b[32m--> \u001b[39m\u001b[32m236\u001b[39m     result = \u001b[43mfunc\u001b[49m\u001b[43m(\u001b[49m\u001b[43m*\u001b[49m\u001b[43margs\u001b[49m\u001b[43m,\u001b[49m\u001b[43m \u001b[49m\u001b[43m*\u001b[49m\u001b[43m*\u001b[49m\u001b[43mkwargs\u001b[49m\u001b[43m)\u001b[49m\n\u001b[32m    237\u001b[39m     end = time.time()\n\u001b[32m    238\u001b[39m     \u001b[38;5;28mprint\u001b[39m(\u001b[33mf\u001b[39m\u001b[33m\"\u001b[39m\u001b[33m[\u001b[39m\u001b[38;5;132;01m{\u001b[39;00mlabel\u001b[38;5;132;01m}\u001b[39;00m\u001b[33m] Time: \u001b[39m\u001b[38;5;132;01m{\u001b[39;00mend\u001b[38;5;250m \u001b[39m-\u001b[38;5;250m \u001b[39mstart\u001b[38;5;132;01m:\u001b[39;00m\u001b[33m.3f\u001b[39m\u001b[38;5;132;01m}\u001b[39;00m\u001b[33m sec\u001b[39m\u001b[33m\"\u001b[39m)\n",
      "\u001b[36mCell\u001b[39m\u001b[36m \u001b[39m\u001b[32mIn[35]\u001b[39m\u001b[32m, line 11\u001b[39m, in \u001b[36m<lambda>\u001b[39m\u001b[34m()\u001b[39m\n\u001b[32m      9\u001b[39m \u001b[38;5;66;03m# Compare groupBy performance before vs after\u001b[39;00m\n\u001b[32m     10\u001b[39m \u001b[38;5;28mprint\u001b[39m(\u001b[33mf\u001b[39m\u001b[33m\"\u001b[39m\u001b[33m[Original Plan using \u001b[39m\u001b[33m'\u001b[39m\u001b[38;5;132;01m{\u001b[39;00mgroupby_col\u001b[38;5;132;01m}\u001b[39;00m\u001b[33m'\u001b[39m\u001b[33m]\u001b[39m\u001b[33m\"\u001b[39m)\n\u001b[32m---> \u001b[39m\u001b[32m11\u001b[39m ValueSkewBalancer.timeit(\u001b[38;5;28;01mlambda\u001b[39;00m: \u001b[43mdf\u001b[49m\u001b[43m.\u001b[49m\u001b[43mgroupBy\u001b[49m\u001b[43m(\u001b[49m\u001b[43mgroupby_col\u001b[49m\u001b[43m)\u001b[49m\u001b[43m.\u001b[49m\u001b[43mcount\u001b[49m\u001b[43m(\u001b[49m\u001b[43m)\u001b[49m.show(), label=\u001b[33m\"\u001b[39m\u001b[33mOriginal Count\u001b[39m\u001b[33m\"\u001b[39m)\n\u001b[32m     12\u001b[39m ValueSkewBalancer.log_explain(df.groupBy(groupby_col).count(), o_log_output_dir)\n\u001b[32m     14\u001b[39m \u001b[38;5;28mprint\u001b[39m(\u001b[33mf\u001b[39m\u001b[33m\"\u001b[39m\u001b[33m[Salted Plan using \u001b[39m\u001b[33m'\u001b[39m\u001b[38;5;132;01m{\u001b[39;00mgroupby_col\u001b[38;5;132;01m}\u001b[39;00m\u001b[33m'\u001b[39m\u001b[33m]\u001b[39m\u001b[33m\"\u001b[39m)\n",
      "\u001b[36mFile \u001b[39m\u001b[32mc:\\Users\\OmarAttia\\AppData\\Local\\Programs\\Python\\Python311\\Lib\\site-packages\\pyspark\\sql\\group.py:37\u001b[39m, in \u001b[36mdfapi.<locals>._api\u001b[39m\u001b[34m(self)\u001b[39m\n\u001b[32m     35\u001b[39m \u001b[38;5;28;01mdef\u001b[39;00m\u001b[38;5;250m \u001b[39m\u001b[34m_api\u001b[39m(\u001b[38;5;28mself\u001b[39m: \u001b[33m\"\u001b[39m\u001b[33mGroupedData\u001b[39m\u001b[33m\"\u001b[39m) -> \u001b[33m\"\u001b[39m\u001b[33mDataFrame\u001b[39m\u001b[33m\"\u001b[39m:\n\u001b[32m     36\u001b[39m     name = f.\u001b[34m__name__\u001b[39m\n\u001b[32m---> \u001b[39m\u001b[32m37\u001b[39m     jdf = \u001b[38;5;28;43mgetattr\u001b[39;49m\u001b[43m(\u001b[49m\u001b[38;5;28;43mself\u001b[39;49m\u001b[43m.\u001b[49m\u001b[43m_jgd\u001b[49m\u001b[43m,\u001b[49m\u001b[43m \u001b[49m\u001b[43mname\u001b[49m\u001b[43m)\u001b[49m\u001b[43m(\u001b[49m\u001b[43m)\u001b[49m\n\u001b[32m     38\u001b[39m     \u001b[38;5;28;01mreturn\u001b[39;00m DataFrame(jdf, \u001b[38;5;28mself\u001b[39m.session)\n",
      "\u001b[36mFile \u001b[39m\u001b[32mc:\\Users\\OmarAttia\\AppData\\Local\\Programs\\Python\\Python311\\Lib\\site-packages\\py4j\\java_gateway.py:1362\u001b[39m, in \u001b[36mJavaMember.__call__\u001b[39m\u001b[34m(self, *args)\u001b[39m\n\u001b[32m   1356\u001b[39m command = proto.CALL_COMMAND_NAME +\\\n\u001b[32m   1357\u001b[39m     \u001b[38;5;28mself\u001b[39m.command_header +\\\n\u001b[32m   1358\u001b[39m     args_command +\\\n\u001b[32m   1359\u001b[39m     proto.END_COMMAND_PART\n\u001b[32m   1361\u001b[39m answer = \u001b[38;5;28mself\u001b[39m.gateway_client.send_command(command)\n\u001b[32m-> \u001b[39m\u001b[32m1362\u001b[39m return_value = \u001b[43mget_return_value\u001b[49m\u001b[43m(\u001b[49m\n\u001b[32m   1363\u001b[39m \u001b[43m    \u001b[49m\u001b[43manswer\u001b[49m\u001b[43m,\u001b[49m\u001b[43m \u001b[49m\u001b[38;5;28;43mself\u001b[39;49m\u001b[43m.\u001b[49m\u001b[43mgateway_client\u001b[49m\u001b[43m,\u001b[49m\u001b[43m \u001b[49m\u001b[38;5;28;43mself\u001b[39;49m\u001b[43m.\u001b[49m\u001b[43mtarget_id\u001b[49m\u001b[43m,\u001b[49m\u001b[43m \u001b[49m\u001b[38;5;28;43mself\u001b[39;49m\u001b[43m.\u001b[49m\u001b[43mname\u001b[49m\u001b[43m)\u001b[49m\n\u001b[32m   1365\u001b[39m \u001b[38;5;28;01mfor\u001b[39;00m temp_arg \u001b[38;5;129;01min\u001b[39;00m temp_args:\n\u001b[32m   1366\u001b[39m     \u001b[38;5;28;01mif\u001b[39;00m \u001b[38;5;28mhasattr\u001b[39m(temp_arg, \u001b[33m\"\u001b[39m\u001b[33m_detach\u001b[39m\u001b[33m\"\u001b[39m):\n",
      "\u001b[36mFile \u001b[39m\u001b[32mc:\\Users\\OmarAttia\\AppData\\Local\\Programs\\Python\\Python311\\Lib\\site-packages\\pyspark\\errors\\exceptions\\captured.py:288\u001b[39m, in \u001b[36mcapture_sql_exception.<locals>.deco\u001b[39m\u001b[34m(*a, **kw)\u001b[39m\n\u001b[32m    284\u001b[39m converted = convert_exception(e.java_exception)\n\u001b[32m    285\u001b[39m \u001b[38;5;28;01mif\u001b[39;00m \u001b[38;5;129;01mnot\u001b[39;00m \u001b[38;5;28misinstance\u001b[39m(converted, UnknownException):\n\u001b[32m    286\u001b[39m     \u001b[38;5;66;03m# Hide where the exception came from that shows a non-Pythonic\u001b[39;00m\n\u001b[32m    287\u001b[39m     \u001b[38;5;66;03m# JVM exception message.\u001b[39;00m\n\u001b[32m--> \u001b[39m\u001b[32m288\u001b[39m     \u001b[38;5;28;01mraise\u001b[39;00m converted \u001b[38;5;28;01mfrom\u001b[39;00m\u001b[38;5;250m \u001b[39m\u001b[38;5;28;01mNone\u001b[39;00m\n\u001b[32m    289\u001b[39m \u001b[38;5;28;01melse\u001b[39;00m:\n\u001b[32m    290\u001b[39m     \u001b[38;5;28;01mraise\u001b[39;00m\n",
      "\u001b[31mAnalysisException\u001b[39m: [UNRESOLVED_COLUMN.WITH_SUGGESTION] A column, variable, or function parameter with name `type` cannot be resolved. Did you mean one of the following? [`value`, `event_type`, `event_time`, `customer_id`, `description`]. SQLSTATE: 42703;\n'Aggregate ['type], ['type, count(1) AS count#1569L]\n+- Relation [customer_id#1334,event_type#1335,value#1336,description#1337,event_time#1338] csv\n"
     ]
    }
   ],
   "source": [
    "# Define or auto-detect the groupBy column (usually low-cardinality string)\n",
    "if \"groupby_col\" not in locals():\n",
    "    groupby_col = ValueSkewBalancer.detect_low_cardinality_categorical(df)\n",
    "\n",
    "# Define output log paths\n",
    "o_log_output_dir = f\"outputs/logs/original-plan.txt\"\n",
    "s_log_output_dir = f\"outputs/logs/salted-plan.txt\"\n",
    "\n",
    "# Compare groupBy performance before vs after\n",
    "print(f\"[Original Plan using '{groupby_col}']\")\n",
    "ValueSkewBalancer.timeit(lambda: df.groupBy(groupby_col).count().show(), label=\"Original Count\")\n",
    "ValueSkewBalancer.log_explain(df.groupBy(groupby_col).count(), o_log_output_dir)\n",
    "\n",
    "print(f\"[Salted Plan using '{groupby_col}']\")\n",
    "ValueSkewBalancer.timeit(lambda: df_balanced.groupBy(groupby_col).count().show(), label=\"Salted Count\")\n",
    "ValueSkewBalancer.log_explain(df_balanced.groupBy(groupby_col).count(), s_log_output_dir)\n"
   ]
  },
  {
   "cell_type": "markdown",
   "id": "751b6237c9a10ab2",
   "metadata": {},
   "source": [
    "## Step 11: Visualize the Skew Fix\n",
    "\n",
    "Let’s look at the visual reports generated by SkewBalancer:\n",
    "\n",
    "- **Z-Score Chart**: Shows how extreme the values are before vs. after salting\n",
    "- **Box Plot**: Displays how data is spread (min, max, median, outliers)\n",
    "- **Histogram**: Compares the distribution of values before and after fixing skew\n",
    "\n",
    "These help you understand what *skew* actually looks like and how it was balanced!\n"
   ]
  },
  {
   "cell_type": "code",
   "execution_count": null,
   "id": "fab5e0f725f187d7",
   "metadata": {},
   "outputs": [],
   "source": [
    "from IPython.display import Image, display\n",
    "import os\n",
    "\n",
    "# Try to detect the skewed column used for salting\n",
    "try:\n",
    "    skewed_column = df_balanced.columns[-1].split(\"_\")[0]\n",
    "except Exception:\n",
    "    skewed_column = \"unknown\"\n",
    "\n",
    "# Display visualizations if they exist\n",
    "plot_types = [\"z_score_comparison\", \"box_plot\", \"histogram\"]\n",
    "for plot_type in plot_types:\n",
    "    plot_path = f\"outputs/{plot_type}_{skewed_column}.png\"\n",
    "    if os.path.exists(plot_path):\n",
    "        display(Image(filename=plot_path))\n",
    "    else:\n",
    "        print(f\"[Warning] Plot not found: {plot_path}\")\n"
   ]
  },
  {
   "cell_type": "markdown",
   "id": "b7ba3f0a9fce9797",
   "metadata": {},
   "source": [
    "> 🧠 **What does this mean?**\n",
    "> The Z-Score chart helps you spot \"extreme\" values.\n",
    "> If most bars stay within the blue/red lines, your data is less skewed now!\n"
   ]
  },
  {
   "cell_type": "markdown",
   "id": "6318ba95179f4f8e",
   "metadata": {},
   "source": [
    "# Step 12: Stop Spark Session\n",
    "\n",
    "Always clean up when done.\n"
   ]
  },
  {
   "cell_type": "code",
   "execution_count": null,
   "id": "41e3ecfa6ab8c30f",
   "metadata": {},
   "outputs": [],
   "source": [
    "spark.stop()"
   ]
  }
 ],
 "metadata": {
  "kernelspec": {
   "display_name": "Python 3",
   "language": "python",
   "name": "python3"
  },
  "language_info": {
   "codemirror_mode": {
    "name": "ipython",
    "version": 3
   },
   "file_extension": ".py",
   "mimetype": "text/x-python",
   "name": "python",
   "nbconvert_exporter": "python",
   "pygments_lexer": "ipython3",
   "version": "3.11.9"
  }
 },
 "nbformat": 4,
 "nbformat_minor": 5
}
