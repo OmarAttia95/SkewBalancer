{
 "cells": [
  {
   "cell_type": "markdown",
   "id": "2960674353e56349",
   "metadata": {},
   "source": [
    "# SkewBalancer: Auto Fix Spark Skew\n",
    "This notebook helps you detect **skewed data** and fix it automatically using a tool called `SkewBalancer`.\n",
    "\n",
    "If you're new to programming, don't worry!\n",
    "We’ll guide you step by step"
   ]
  },
  {
   "cell_type": "markdown",
   "id": "4bf0b937a43f33a9",
   "metadata": {},
   "source": [
    "# Step 1: Install Required Packages\n",
    "\n",
    "This notebook uses **PySpark**, **Pandas**, **Matplotlib**, and **Seaborn**.\n",
    "Run this cell once to make sure everything is installed:\n"
   ]
  },
  {
   "cell_type": "code",
   "execution_count": null,
   "id": "58ab18c319eaac5e",
   "metadata": {
    "ExecuteTime": {
     "end_time": "2025-07-07T08:35:06.111658Z",
     "start_time": "2025-07-07T08:34:54.254680Z"
    }
   },
   "outputs": [],
   "source": [
    "# Install required Python packages (only if not already installed)\n",
    "!pip install pyspark pandas matplotlib seaborn --quiet"
   ]
  },
  {
   "cell_type": "markdown",
   "id": "f6232c4dc0438c40",
   "metadata": {},
   "source": [
    "# Step 2: Import Libraries\n",
    "\n",
    "We now import the Python libraries we'll use, including Spark and the `ValueSkewBalancer` class.\n"
   ]
  },
  {
   "cell_type": "code",
   "execution_count": null,
   "id": "initial_id",
   "metadata": {
    "ExecuteTime": {
     "end_time": "2025-07-07T08:36:12.288175Z",
     "start_time": "2025-07-07T08:36:12.279516Z"
    },
    "collapsed": true
   },
   "outputs": [],
   "source": [
    "from pyspark.sql import SparkSession\n",
    "from skewbalancer import *"
   ]
  },
  {
   "cell_type": "markdown",
   "id": "4a0f6fae159bdb54",
   "metadata": {},
   "source": [
    "# Step 3: Start a Spark Session\n",
    "\n",
    "This step launches a local Spark instance to process your data."
   ]
  },
  {
   "cell_type": "code",
   "execution_count": null,
   "id": "79bf0222f6ad952c",
   "metadata": {
    "ExecuteTime": {
     "end_time": "2025-07-07T08:35:06.377507Z",
     "start_time": "2025-07-07T08:35:06.230313Z"
    }
   },
   "outputs": [],
   "source": [
    "# ----------------------------\n",
    "# Spark Session Configuration\n",
    "# ----------------------------\n",
    "\n",
    "# Basic Settings\n",
    "spark_app_name: str = \"SkewBalancer_Test\"\n",
    "spark_master: str = \"local[*]\"                      # Use all local cores\n",
    "spark_driver_memory: str = \"4g\"                     # Driver memory limit\n",
    "spark_executor_memory: str = \"4g\"                   # Executor memory (mostly ignored in local mode)\n",
    "spark_log_level: str = \"WARN\"                       # Reduce log noise: INFO, WARN, ERROR\n",
    "\n",
    "# Performance Tuners\n",
    "spark_configs: dict = {\n",
    "    \"spark.sql.shuffle.partitions\": \"8\",            # Default number of shuffle partitions\n",
    "    \"spark.default.parallelism\": \"8\",                # Used in RDD operations\n",
    "    \"spark.sql.adaptive.enabled\": \"true\",           # Enable Adaptive Query Execution (AQE)\n",
    "    \"spark.sql.adaptive.coalescePartitions.enabled\": \"true\",  # Coalesce after AQE\n",
    "    \"spark.sql.broadcastTimeout\": \"120\",            # Broadcast timeout in seconds\n",
    "    \"spark.serializer\": \"org.apache.spark.serializer.KryoSerializer\",  # Fast serialization\n",
    "    \"spark.sql.codegen.wholeStage\": \"true\",         # Enable full query optimization\n",
    "}\n",
    "\n",
    "# ----------------------------\n",
    "# Build Spark Session\n",
    "# ----------------------------\n",
    "spark_builder = SparkSession.builder.appName(spark_app_name).master(spark_master)\n",
    "\n",
    "# Apply memory settings\n",
    "spark_builder = spark_builder.config(\"spark.driver.memory\", spark_driver_memory)\n",
    "spark_builder = spark_builder.config(\"spark.executor.memory\", spark_executor_memory)\n",
    "\n",
    "# Apply advanced configs\n",
    "for k, v in spark_configs.items():\n",
    "    spark_builder = spark_builder.config(k, v)\n",
    "\n",
    "# Create Spark session\n",
    "spark = spark_builder.getOrCreate()\n",
    "\n",
    "# Set log level\n",
    "spark.sparkContext.setLogLevel(spark_log_level)\n",
    "\n",
    "# Confirm Spark details\n",
    "print(f\"Spark session started (v{spark.version}) | Driver Memory: {spark_driver_memory} | Executor Memor: {spark_executor_memory}\")"
   ]
  },
  {
   "cell_type": "markdown",
   "id": "d888bcc7adf01fc8",
   "metadata": {},
   "source": [
    "# Step 4: Load Your Data (Any File Type)\n",
    "\n",
    "`SkewBalancer` supports many file types:\n",
    " - `.csv` — comma-separated values\n",
    " - `.json` — structured JSON records\n",
    " - `.parquet` — fast compressed format\n",
    " - `.delta` — advanced format for big data (if Delta Lake is installed)\n",
    " \n",
    "Set your file path and file type below.\n",
    "We'll automatically load it into a Spark DataFrame!"
   ]
  },
  {
   "cell_type": "code",
   "execution_count": null,
   "id": "7f7d8481227b9358",
   "metadata": {
    "ExecuteTime": {
     "end_time": "2025-07-07T08:35:06.662491Z",
     "start_time": "2025-07-07T08:35:06.427811Z"
    }
   },
   "outputs": [],
   "source": [
    "# Replace this path with your own CSV\n",
    "input_file = r\"ADD YOUR FILE HERE\"\n",
    "file_type = \"csv\"                 # Options: \"csv\", \"json\", \"parquet\", \"delta\""
   ]
  },
  {
   "cell_type": "markdown",
   "id": "140f7590",
   "metadata": {},
   "source": [
    "# Step 5: Use Smart Schema Detection\n",
    "Instead of relying on `inferSchema=True`, we now use `.schemaVisor()` — a smart schema detection method that:\n",
    "\n",
    "- Samples a small portion of the data (~5K records)\n",
    "- Analyzes string columns, numeric-like strings, and missing values\n",
    "- Generates an optimized schema using Spark types (`IntegerType`, `DoubleType`, `StringType`)\n",
    "- Prevents over-allocation of memory and speeds up Spark's I/O performance\n",
    "\n",
    "This makes your pipeline more scalable, especially for large, messy, or semi-structured datasets."
   ]
  },
  {
   "cell_type": "code",
   "execution_count": null,
   "id": "5d7d2dd4",
   "metadata": {},
   "outputs": [],
   "source": [
    "# Step 5: Use schemaVisor to generate a schema from sampled data\n",
    "df_sample = spark.read.option(\"header\", \"true\").option(\"inferSchema\", \"false\").csv(input_file)\n",
    "schema = ValueSkewBalancer.schemaVisor(df_sample)"
   ]
  },
  {
   "cell_type": "markdown",
   "id": "d2b83218",
   "metadata": {},
   "source": [
    "## (OPTIONAL) Step 5.1: Auto-Detect Primary or Composite Key\n",
    "After determining the optimal schema with `schemaVisor()`, we now identify a suitable **Primary Key** (or **Composite Key**) using `.detectKey()`.\n",
    "\n",
    "This helps:\n",
    "- Enforce schema constraints\n",
    "- Optimize `join` performance\n",
    "- Enable `deduplication` and `identity logic`\n",
    "\n",
    "The method:\n",
    "- Analyzes `nulls` and `uniqueness` across all columns\n",
    "- Picks the most confident column as a **primary key**\n",
    "- If no strong single-column key exists, it tries **column combinations** (composite keys)\n",
    "- Returns `type`, `columns`, and `confidence score` **(Remember that is all algorithm. You could skip this step)**"
   ]
  },
  {
   "cell_type": "code",
   "execution_count": null,
   "id": "148ca237",
   "metadata": {},
   "outputs": [],
   "source": [
    "# Detect Primary or Composite Key\n",
    "key_result = ValueSkewBalancer.detectKey(df_sample, max_composite=3, verbose=True)\n",
    "\n",
    "if key_result:\n",
    "    print(f\"\\nDetected {key_result['type']} key:\")\n",
    "    print(f\"Columns: {key_result['columns']}\")\n",
    "    print(f\"Confidence: {key_result['confidence'] * 100:.2f}%\")\n",
    "else:\n",
    "    print(\"No reliable primary or composite key found.\")"
   ]
  },
  {
   "cell_type": "markdown",
   "id": "92ecb660",
   "metadata": {},
   "source": [
    "## Step 6: Read Data Using Smart Schema\n",
    "\n",
    "We now use the schema returned by `schemaVisor()` to load your data.\n",
    "\n",
    "`inferSchema` is now turned off — we trust our smarter logic\n"
   ]
  },
  {
   "cell_type": "code",
   "execution_count": null,
   "id": "6bf35a5b",
   "metadata": {},
   "outputs": [],
   "source": [
    "if file_type == \"csv\":\n",
    "    df = spark.read.option(\"header\", \"true\").schema(schema).csv(input_file)\n",
    "elif file_type == \"json\":\n",
    "    df = spark.read.option(\"multiline\", \"true\").schema(schema).json(input_file)\n",
    "elif file_type == \"parquet\":\n",
    "    df = spark.read.schema(schema).parquet(input_file)\n",
    "elif file_type == \"delta\":\n",
    "    df = spark.read.format(\"delta\").schema(schema).load(input_file)\n",
    "else:\n",
    "    raise ValueError(f\"Unsupported file type: {file_type}\")"
   ]
  },
  {
   "cell_type": "markdown",
   "id": "c614e28c6dfcfc8c",
   "metadata": {},
   "source": [
    "> **TIP**\n",
    "> Not sure which file type you have?\n",
    "> - `.csv` is usually text with commas\n",
    "> - `.json` is readable by web browsers\n",
    "> - `.parquet` is often used in cloud warehouses (like AWS, Azure)\n",
    "> - `.delta` is for Spark projects with **Delta Lake** enabled\n"
   ]
  },
  {
   "cell_type": "markdown",
   "id": "ca1832f22952071a",
   "metadata": {},
   "source": [
    "## Step 7: Preview Your Data\n",
    "\n",
    "Let’s check what columns are inside your file."
   ]
  },
  {
   "cell_type": "code",
   "execution_count": null,
   "id": "bff381eecfddc046",
   "metadata": {
    "ExecuteTime": {
     "end_time": "2025-07-07T08:35:06.837309Z",
     "start_time": "2025-07-07T08:35:06.716667Z"
    }
   },
   "outputs": [],
   "source": [
    "# Show schema and preview\n",
    "df.printSchema()\n",
    "df.show(5)"
   ]
  },
  {
   "cell_type": "markdown",
   "id": "1f6205020fa4e682",
   "metadata": {},
   "source": [
    "## Step 8: Automatically Detect Skew and Balance Your Data\n",
    "\n",
    "Now we let `SkewBalancer`:\n",
    "- Detect the most skewed numeric column\n",
    "- Pick the best group-by column (usually string column with low unique values)\n",
    "- Apply salting to split skewed values into smaller \"chunks\"\n",
    "- Repartition the data for faster Spark performance\n",
    "\n",
    "You can change:\n",
    "- `output_dir`: where charts and logs are saved\n",
    "- `partitions`: number of output partitions (default = 8)\n",
    "- `verbose`: if `True`, will print detailed info for learning\n"
   ]
  },
  {
   "cell_type": "code",
   "execution_count": null,
   "id": "bf3fd0b988ed1e96",
   "metadata": {},
   "outputs": [],
   "source": [
    "# Automatically detect skew and optimize the DataFrame\n",
    "output_dir = \"outputs\"        # Directory to save plots and explain logs\n",
    "num_partitions = 8            # Number of partitions after salting\n",
    "verbose_mode = True           # Show detailed progress and stats\n",
    "\n",
    "df_balanced = auto_balance_skew(\n",
    "    df,\n",
    "    output_dir=output_dir,\n",
    "    partitions=num_partitions,\n",
    "    verbose=verbose_mode\n",
    ")"
   ]
  },
  {
   "cell_type": "markdown",
   "id": "5708d0b9ce53f662",
   "metadata": {},
   "source": [
    "## Step 9: Check the Output and Partitions\n",
    "\n",
    "Now let’s preview:\n",
    "- A few rows from the new column `salted_key` (which Spark uses to balance the data)\n",
    "- The number of records inside each Spark partition\n",
    "\n",
    "This helps you **verify** that the skew was reduced and data is now more balanced across workers.\n"
   ]
  },
  {
   "cell_type": "code",
   "execution_count": null,
   "id": "e57a71afb67e50e6",
   "metadata": {},
   "outputs": [],
   "source": [
    "# Detect the salted column name dynamically\n",
    "salted_col = [col for col in df_balanced.columns if \"salted\" in col.lower()][0]\n",
    "\n",
    "# Show some of the salted values\n",
    "df_balanced.select(salted_col).show(5)\n",
    "\n",
    "# Show partition distribution\n",
    "ValueSkewBalancer.show_partition_sizes(df_balanced, label=\"Salted Result\")"
   ]
  },
  {
   "cell_type": "markdown",
   "id": "c829e65ec2b135c2",
   "metadata": {},
   "source": [
    "## Step 10: Compare Original vs Optimized Performance\n",
    "\n",
    "Let’s now compare:\n",
    "- The **original plan** before salting\n",
    "- The **optimized plan** after salting\n",
    "\n",
    "We:\n",
    "- Group the data by a selected **categorical column** (usually a string like \"type\")\n",
    "- Time how long `.groupBy().count()` takes\n",
    "- Log the physical execution plan using `.explain()`\n",
    "\n",
    "This shows how `SkewBalancer` changes how Spark works under the hood!\n"
   ]
  },
  {
   "cell_type": "code",
   "execution_count": null,
   "id": "1f4ca4acdd52aafe",
   "metadata": {},
   "outputs": [],
   "source": [
    "# Define or auto-detect the groupBy column (usually low-cardinality string)\n",
    "if \"groupby_col\" not in locals():\n",
    "    groupby_col = ValueSkewBalancer.detect_low_cardinality_categorical(df)\n",
    "\n",
    "# Define output log paths\n",
    "o_log_output_dir = f\"outputs/logs/original-plan.txt\"\n",
    "s_log_output_dir = f\"outputs/logs/salted-plan.txt\"\n",
    "\n",
    "# Compare groupBy performance before vs after\n",
    "print(f\"[Original Plan using '{groupby_col}']\")\n",
    "ValueSkewBalancer.timeit(lambda: df.groupBy(groupby_col).count().show(), label=\"Original Count\")\n",
    "ValueSkewBalancer.log_explain(df.groupBy(groupby_col).count(), o_log_output_dir)\n",
    "\n",
    "print(f\"[Salted Plan using '{groupby_col}']\")\n",
    "ValueSkewBalancer.timeit(lambda: df_balanced.groupBy(groupby_col).count().show(), label=\"Salted Count\")\n",
    "ValueSkewBalancer.log_explain(df_balanced.groupBy(groupby_col).count(), s_log_output_dir)\n"
   ]
  },
  {
   "cell_type": "markdown",
   "id": "751b6237c9a10ab2",
   "metadata": {},
   "source": [
    "## Step 11: Visualize the Skew Fix\n",
    "\n",
    "Let’s look at the visual reports generated by SkewBalancer:\n",
    "\n",
    "- **Z-Score Chart**: Shows how extreme the values are before vs. after salting\n",
    "- **Box Plot**: Displays how data is spread (min, max, median, outliers)\n",
    "- **Histogram**: Compares the distribution of values before and after fixing skew\n",
    "\n",
    "These help you understand what *skew* actually looks like and how it was balanced!\n"
   ]
  },
  {
   "cell_type": "code",
   "execution_count": null,
   "id": "fab5e0f725f187d7",
   "metadata": {},
   "outputs": [],
   "source": [
    "from IPython.display import Image, display\n",
    "import os\n",
    "\n",
    "# Try to detect the skewed column used for salting\n",
    "try:\n",
    "    skewed_column = df_balanced.columns[-1].split(\"_\")[0]\n",
    "except Exception:\n",
    "    skewed_column = \"unknown\"\n",
    "\n",
    "# Display visualizations if they exist\n",
    "plot_types = [\"z_score_comparison\", \"box_plot\", \"histogram\"]\n",
    "for plot_type in plot_types:\n",
    "    plot_path = f\"outputs/{plot_type}_{skewed_column}.png\"\n",
    "    if os.path.exists(plot_path):\n",
    "        display(Image(filename=plot_path))\n",
    "    else:\n",
    "        print(f\"[Warning] Plot not found: {plot_path}\")\n"
   ]
  },
  {
   "cell_type": "markdown",
   "id": "b7ba3f0a9fce9797",
   "metadata": {},
   "source": [
    "> 🧠 **What does this mean?**\n",
    "> The Z-Score chart helps you spot \"extreme\" values.\n",
    "> If most bars stay within the blue/red lines, your data is less skewed now!\n"
   ]
  },
  {
   "cell_type": "markdown",
   "id": "6318ba95179f4f8e",
   "metadata": {},
   "source": [
    "# Step 12: Stop Spark Session\n",
    "\n",
    "Always clean up when done.\n"
   ]
  },
  {
   "cell_type": "code",
   "execution_count": null,
   "id": "41e3ecfa6ab8c30f",
   "metadata": {},
   "outputs": [],
   "source": [
    "spark.stop()"
   ]
  }
 ],
 "metadata": {
  "kernelspec": {
   "display_name": "Python 3",
   "language": "python",
   "name": "python3"
  },
  "language_info": {
   "codemirror_mode": {
    "name": "ipython",
    "version": 3
   },
   "file_extension": ".py",
   "mimetype": "text/x-python",
   "name": "python",
   "nbconvert_exporter": "python",
   "pygments_lexer": "ipython3",
   "version": "3.11.9"
  }
 },
 "nbformat": 4,
 "nbformat_minor": 5
}
