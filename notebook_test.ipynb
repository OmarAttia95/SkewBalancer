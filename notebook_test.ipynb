{
 "cells": [
  {
   "metadata": {},
   "cell_type": "code",
   "outputs": [],
   "execution_count": null,
   "source": [
    "# Install required Python packages (only if not already installed)\n",
    "!pip install pyspark pandas matplotlib seaborn"
   ],
   "id": "58ab18c319eaac5e"
  },
  {
   "cell_type": "code",
   "execution_count": null,
   "id": "initial_id",
   "metadata": {
    "collapsed": true
   },
   "outputs": [],
   "source": "from skewbalancer import ValueSkewBalancer, auto_balance_skew"
  },
  {
   "metadata": {},
   "cell_type": "code",
   "outputs": [],
   "execution_count": null,
   "source": [
    "from pyspark.sql import SparkSession\n",
    "\n",
    "# Start a local Spark session\n",
    "spark = SparkSession.builder \\\n",
    "    .appName(\"SkewBalancer Test\") \\\n",
    "    .master(\"local[*]\") \\\n",
    "    .getOrCreate()"
   ],
   "id": "79bf0222f6ad952c"
  },
  {
   "metadata": {},
   "cell_type": "code",
   "outputs": [],
   "execution_count": null,
   "source": [
    "# Replace this path with your own CSV\n",
    "input_file = r\"YOUR FILE HERE\"\n",
    "df = spark.read.csv(input_file, header=True, inferSchema=True)\n",
    "\n",
    "# Show schema and preview\n",
    "df.printSchema()\n",
    "df.show(5)"
   ],
   "id": "7f7d8481227b9358"
  },
  {
   "metadata": {},
   "cell_type": "code",
   "outputs": [],
   "execution_count": null,
   "source": [
    "# Automatically detect skew and apply salting + repartitioning\n",
    "df_balanced = auto_balance_skew(df, output_dir=\"outputs\", partitions=8, verbose=True)"
   ],
   "id": "bf3fd0b988ed1e96"
  },
  {
   "metadata": {},
   "cell_type": "code",
   "outputs": [],
   "execution_count": null,
   "source": [
    "# Show a few records\n",
    "df_balanced.select(\"salted_key\").show(5)\n",
    "\n",
    "# Show partition sizes\n",
    "ValueSkewBalancer.show_partition_sizes(df_balanced, label=\"Salted Result\")"
   ],
   "id": "e57a71afb67e50e6"
  },
  {
   "metadata": {},
   "cell_type": "code",
   "outputs": [],
   "execution_count": null,
   "source": [
    "# Manual timing and explain\n",
    "print(\"[Original Plan]\")\n",
    "ValueSkewBalancer.timeit(lambda: df.groupBy(\"Product Position\").count().show())\n",
    "ValueSkewBalancer.log_explain(df.groupBy(\"Product Position\").count(), \"outputs/original_plan.txt\")\n",
    "\n",
    "print(\"[Salted Plan]\")\n",
    "ValueSkewBalancer.timeit(lambda: df_balanced.groupBy(\"Product Position\").count().show())\n",
    "ValueSkewBalancer.log_explain(df_balanced.groupBy(\"Product Position\").count(), \"outputs/salted_plan.txt\")"
   ],
   "id": "1f4ca4acdd52aafe"
  },
  {
   "metadata": {},
   "cell_type": "code",
   "outputs": [],
   "execution_count": null,
   "source": [
    "from IPython.display import Image, display\n",
    "\n",
    "# Display generated visualizations\n",
    "display(Image(filename=\"outputs/z_score_comparison_Revenue.png\"))\n",
    "display(Image(filename=\"outputs/box_plot_comparison_Revenue.png\"))\n",
    "display(Image(filename=\"outputs/histogram_comparison_Revenue.png\"))"
   ],
   "id": "fab5e0f725f187d7"
  }
 ],
 "metadata": {
  "kernelspec": {
   "display_name": "Python 3",
   "language": "python",
   "name": "python3"
  },
  "language_info": {
   "codemirror_mode": {
    "name": "ipython",
    "version": 2
   },
   "file_extension": ".py",
   "mimetype": "text/x-python",
   "name": "python",
   "nbconvert_exporter": "python",
   "pygments_lexer": "ipython2",
   "version": "2.7.6"
  }
 },
 "nbformat": 4,
 "nbformat_minor": 5
}
