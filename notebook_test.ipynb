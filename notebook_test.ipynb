{
 "cells": [
  {
   "metadata": {},
   "cell_type": "code",
   "source": [
    "# Install required Python packages (only if not already installed)\n",
    "!pip install pyspark pandas matplotlib seaborn"
   ],
   "id": "58ab18c319eaac5e",
   "outputs": [],
   "execution_count": null
  },
  {
   "cell_type": "code",
   "id": "initial_id",
   "metadata": {
    "collapsed": true
   },
   "source": "from skewbalancer import ValueSkewBalancer, auto_balance_skew",
   "outputs": [],
   "execution_count": null
  },
  {
   "metadata": {},
   "cell_type": "code",
   "source": [
    "from pyspark.sql import SparkSession\n",
    "\n",
    "# Start a local Spark session\n",
    "spark = SparkSession.builder \\\n",
    "    .appName(\"SkewBalancer Test\") \\\n",
    "    .master(\"local[*]\") \\\n",
    "    .getOrCreate()"
   ],
   "id": "79bf0222f6ad952c",
   "outputs": [],
   "execution_count": null
  },
  {
   "metadata": {},
   "cell_type": "code",
   "source": [
    "# Replace this path with your own CSV\n",
    "input_file = r\"\"\n",
    "df = spark.read.csv(input_file, header=True, inferSchema=True)\n",
    "\n",
    "# Show schema and preview\n",
    "df.printSchema()\n",
    "df.show(5)"
   ],
   "id": "7f7d8481227b9358",
   "outputs": [],
   "execution_count": null
  },
  {
   "metadata": {},
   "cell_type": "code",
   "source": [
    "# Automatically detect skew and apply salting + repartitioning\n",
    "df_balanced = auto_balance_skew(df, output_dir=\"outputs\", partitions=8, verbose=True)"
   ],
   "id": "bf3fd0b988ed1e96",
   "outputs": [],
   "execution_count": null
  },
  {
   "metadata": {},
   "cell_type": "code",
   "source": [
    "# Show a few records\n",
    "df_balanced.select(\"salted_key\").show(5)\n",
    "\n",
    "# Show partition sizes\n",
    "ValueSkewBalancer.show_partition_sizes(df_balanced, label=\"Salted Result\")"
   ],
   "id": "e57a71afb67e50e6",
   "outputs": [],
   "execution_count": null
  },
  {
   "metadata": {},
   "cell_type": "code",
   "source": [
    "# Define the groupBy column here, that was displayed to you\n",
    "groupby_col: str = \"type\"\n",
    "\n",
    "# Define the output log directory (o = Original, s = Salted)\n",
    "o_log_output_dir: str = r\"outputs/logs/original-plan.txt\"\n",
    "s_log_output_dir: str = r\"outputs/logs/salted-plan.txt\"\n",
    "\n",
    "# Manual timing and explain\n",
    "print(\"[Original Plan]\")\n",
    "ValueSkewBalancer.timeit(lambda: df.groupBy(groupby_col).count().show())\n",
    "ValueSkewBalancer.log_explain(df.groupBy(groupby_col).count(), o_log_output_dir)\n",
    "\n",
    "print(\"[Salted Plan]\")\n",
    "ValueSkewBalancer.timeit(lambda: df_balanced.groupBy(groupby_col).count().show())\n",
    "ValueSkewBalancer.log_explain(df_balanced.groupBy(groupby_col).count(), s_log_output_dir)"
   ],
   "id": "1f4ca4acdd52aafe",
   "outputs": [],
   "execution_count": null
  },
  {
   "metadata": {},
   "cell_type": "code",
   "source": [
    "from IPython.display import Image, display\n",
    "\n",
    "# Display generated visualizations\n",
    "display(Image(filename=\"outputs/z_score_comparison_baths.png\"))\n",
    "display(Image(filename=\"outputs/box_plot_baths.png\"))\n",
    "display(Image(filename=\"outputs/histogram_baths.png\"))"
   ],
   "id": "fab5e0f725f187d7",
   "outputs": [],
   "execution_count": null
  },
  {
   "metadata": {},
   "cell_type": "code",
   "source": "",
   "id": "fc5c3d937cc36b5e",
   "outputs": [],
   "execution_count": null
  }
 ],
 "metadata": {
  "kernelspec": {
   "display_name": "Python 3",
   "language": "python",
   "name": "python3"
  },
  "language_info": {
   "codemirror_mode": {
    "name": "ipython",
    "version": 2
   },
   "file_extension": ".py",
   "mimetype": "text/x-python",
   "name": "python",
   "nbconvert_exporter": "python",
   "pygments_lexer": "ipython2",
   "version": "2.7.6"
  }
 },
 "nbformat": 4,
 "nbformat_minor": 5
}
